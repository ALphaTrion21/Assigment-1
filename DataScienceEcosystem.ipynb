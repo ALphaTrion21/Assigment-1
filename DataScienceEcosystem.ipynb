{
 "cells": [
  {
   "cell_type": "markdown",
   "id": "c6c9facb-51d3-4cb9-a19e-a66ac38f142b",
   "metadata": {},
   "source": [
    "# Data Science Tools and Ecosystem"
   ]
  },
  {
   "cell_type": "markdown",
   "id": "fe60c2e7-0daf-4d61-a8d6-9e60ce739745",
   "metadata": {},
   "source": [
    "## In this notebook, Data Science Tools are summarized.\n"
   ]
  },
  {
   "cell_type": "markdown",
   "id": "5247b266-2899-413d-bbae-3ffa60189171",
   "metadata": {
    "tags": []
   },
   "source": [
    "**Objectives:**\n",
    "- List popular languages for Data Science\n",
    "- List of some commonly used librarires used by Data Scientists\n",
    "- List of some open source tools for Data Science\n",
    "- List of some arithmetic expression in python"
   ]
  },
  {
   "cell_type": "markdown",
   "id": "ad36fe4c-2a3f-49c9-93b9-5c8a0e2661ad",
   "metadata": {
    "tags": []
   },
   "source": [
    "### Some of popular languages that Data scientist use are:\n",
    "1. Python\n",
    "2. SOL\n",
    "3. R\n",
    "4. Julia"
   ]
  },
  {
   "cell_type": "markdown",
   "id": "da4a5476-24c9-4cba-81ef-f04acf48b9ec",
   "metadata": {},
   "source": [
    "### Some of the commonly used libraries used by Data Scientists include:\n",
    "1. Pandas(Python)\n",
    "2. Numpy(Python)\n",
    "3. ggplot(R)\n",
    "4. Seaborn(Python)\n",
    "5. matplotlib(Python)\n",
    "6. Tensorflow(Python)\n"
   ]
  },
  {
   "cell_type": "markdown",
   "id": "650ee0c2-f260-4531-8cdf-d3d3fff43929",
   "metadata": {
    "tags": []
   },
   "source": [
    "|Data Science Tools|\n",
    "|------------------|\n",
    "|Jupyter Lab|\n",
    "|R studio|\n",
    "|Google Collab|"
   ]
  },
  {
   "cell_type": "markdown",
   "id": "589c0c66-7f30-408d-ae01-cb71857afff9",
   "metadata": {},
   "source": [
    "### *Below are a few examples of evaluating arithmetic expressions in Python*"
   ]
  },
  {
   "cell_type": "code",
   "execution_count": 7,
   "id": "f1ea5f35-142f-401b-b8f0-fc3ccf2fb9dc",
   "metadata": {
    "tags": []
   },
   "outputs": [
    {
     "data": {
      "text/plain": [
       "17"
      ]
     },
     "execution_count": 7,
     "metadata": {},
     "output_type": "execute_result"
    }
   ],
   "source": [
    "(3*4)+5\n",
    "#This a simple arithmetic expression to mutiply then add integers\n",
    "# Result=17"
   ]
  },
  {
   "cell_type": "code",
   "execution_count": 4,
   "id": "1d4097d2-8835-4056-b5c3-8a04f17cf151",
   "metadata": {
    "tags": []
   },
   "outputs": [
    {
     "data": {
      "text/plain": [
       "3.3333333333333335"
      ]
     },
     "execution_count": 4,
     "metadata": {},
     "output_type": "execute_result"
    }
   ],
   "source": [
    "200/60\n",
    "#This will convert 200 minutes to hours by dividing it by 60\n",
    "#Result=3.3333333333333335 seconds"
   ]
  },
  {
   "cell_type": "markdown",
   "id": "1c557cab-459d-47f6-80a3-bae44edffab5",
   "metadata": {
    "tags": []
   },
   "source": [
    "## **Author**"
   ]
  },
  {
   "cell_type": "markdown",
   "id": "a21be10d-dfc2-43c2-a672-e5edc547cacc",
   "metadata": {
    "tags": []
   },
   "source": [
    "Yash Oza"
   ]
  }
 ],
 "metadata": {
  "kernelspec": {
   "display_name": "Python 3 (ipykernel)",
   "language": "python",
   "name": "python3"
  },
  "language_info": {
   "codemirror_mode": {
    "name": "ipython",
    "version": 3
   },
   "file_extension": ".py",
   "mimetype": "text/x-python",
   "name": "python",
   "nbconvert_exporter": "python",
   "pygments_lexer": "ipython3",
   "version": "3.11.5"
  }
 },
 "nbformat": 4,
 "nbformat_minor": 5
}
